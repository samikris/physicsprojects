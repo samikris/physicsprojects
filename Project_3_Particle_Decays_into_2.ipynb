{
  "nbformat": 4,
  "nbformat_minor": 0,
  "metadata": {
    "colab": {
      "provenance": [],
      "authorship_tag": "ABX9TyMXcMH39WBmlSHyR4lCfWak",
      "include_colab_link": true
    },
    "kernelspec": {
      "name": "python3",
      "display_name": "Python 3"
    },
    "language_info": {
      "name": "python"
    }
  },
  "cells": [
    {
      "cell_type": "markdown",
      "metadata": {
        "id": "view-in-github",
        "colab_type": "text"
      },
      "source": [
        "<a href=\"https://colab.research.google.com/github/samikris/physicsprojects/blob/main/Project_3_Particle_Decays_into_2.ipynb\" target=\"_parent\"><img src=\"https://colab.research.google.com/assets/colab-badge.svg\" alt=\"Open In Colab\"/></a>"
      ]
    },
    {
      "cell_type": "code",
      "execution_count": null,
      "metadata": {
        "id": "pPb2jwE37YgH"
      },
      "outputs": [],
      "source": [
        "import matplotlib.pyplot as plt\n",
        "import numpy as np\n",
        "from google.colab import files\n",
        "import math"
      ]
    },
    {
      "cell_type": "code",
      "source": [
        "from google.colab import drive\n",
        "drive.mount('/content/drive')\n",
        "!mkdir -p \"/content/drive/My Drive/Python4Physics\"\n",
        "filepath=\"drive/My Drive/Python4Physics/\""
      ],
      "metadata": {
        "colab": {
          "base_uri": "https://localhost:8080/"
        },
        "id": "tcKgfetgBqmX",
        "outputId": "4c37bd85-79cc-4420-ce9f-6ff2d5925a94"
      },
      "execution_count": null,
      "outputs": [
        {
          "output_type": "stream",
          "name": "stdout",
          "text": [
            "Mounted at /content/drive\n"
          ]
        }
      ]
    },
    {
      "cell_type": "code",
      "source": [
        "filename = 'pBs_2body_decay.txt'\n",
        "file_path = \"/content/drive/My Drive/Python4Physics/\" + filename\n",
        "\n",
        "q0s = np.loadtxt(file_path)\n",
        "print(\"q0s = \", q0s[0:100])\n",
        "print(\"type(q0s) = \", type(q0s))\n",
        "print(\"shape(q0s) = \", np.shape(q0s))"
      ],
      "metadata": {
        "colab": {
          "base_uri": "https://localhost:8080/",
          "height": 210
        },
        "id": "HJluuJcuBugl",
        "outputId": "12182a5b-7917-417e-a2b7-4647a986d71b"
      },
      "execution_count": null,
      "outputs": [
        {
          "output_type": "error",
          "ename": "NameError",
          "evalue": "name 'np' is not defined",
          "traceback": [
            "\u001b[0;31m---------------------------------------------------------------------------\u001b[0m",
            "\u001b[0;31mNameError\u001b[0m                                 Traceback (most recent call last)",
            "\u001b[0;32m<ipython-input-1-c8183b978427>\u001b[0m in \u001b[0;36m<cell line: 4>\u001b[0;34m()\u001b[0m\n\u001b[1;32m      2\u001b[0m \u001b[0mfile_path\u001b[0m \u001b[0;34m=\u001b[0m \u001b[0;34m\"/content/drive/My Drive/Python4Physics/\"\u001b[0m \u001b[0;34m+\u001b[0m \u001b[0mfilename\u001b[0m\u001b[0;34m\u001b[0m\u001b[0;34m\u001b[0m\u001b[0m\n\u001b[1;32m      3\u001b[0m \u001b[0;34m\u001b[0m\u001b[0m\n\u001b[0;32m----> 4\u001b[0;31m \u001b[0mq0s\u001b[0m \u001b[0;34m=\u001b[0m \u001b[0mnp\u001b[0m\u001b[0;34m.\u001b[0m\u001b[0mloadtxt\u001b[0m\u001b[0;34m(\u001b[0m\u001b[0mfile_path\u001b[0m\u001b[0;34m)\u001b[0m\u001b[0;34m\u001b[0m\u001b[0;34m\u001b[0m\u001b[0m\n\u001b[0m\u001b[1;32m      5\u001b[0m \u001b[0mprint\u001b[0m\u001b[0;34m(\u001b[0m\u001b[0;34m\"q0s = \"\u001b[0m\u001b[0;34m,\u001b[0m \u001b[0mq0s\u001b[0m\u001b[0;34m[\u001b[0m\u001b[0;36m0\u001b[0m\u001b[0;34m:\u001b[0m\u001b[0;36m100\u001b[0m\u001b[0;34m]\u001b[0m\u001b[0;34m)\u001b[0m\u001b[0;34m\u001b[0m\u001b[0;34m\u001b[0m\u001b[0m\n\u001b[1;32m      6\u001b[0m \u001b[0mprint\u001b[0m\u001b[0;34m(\u001b[0m\u001b[0;34m\"type(q0s) = \"\u001b[0m\u001b[0;34m,\u001b[0m \u001b[0mtype\u001b[0m\u001b[0;34m(\u001b[0m\u001b[0mq0s\u001b[0m\u001b[0;34m)\u001b[0m\u001b[0;34m)\u001b[0m\u001b[0;34m\u001b[0m\u001b[0;34m\u001b[0m\u001b[0m\n",
            "\u001b[0;31mNameError\u001b[0m: name 'np' is not defined"
          ]
        }
      ]
    },
    {
      "cell_type": "code",
      "source": [
        "# Calculate 'a' for each element in q0s\n",
        "a = np.sqrt(mb**2 + q0s**2)\n",
        "\n",
        "# Calculate 'mc' using the formula\n",
        "mc = np.sqrt(ma**2 - 2 * ma * a + mb**2)\n",
        "\n",
        "# Print the first 100 values of mc\n",
        "print(\"mc = \", mc[0:100])\n"
      ],
      "metadata": {
        "colab": {
          "base_uri": "https://localhost:8080/"
        },
        "id": "KqOonLJNCI0N",
        "outputId": "8f1e7c88-e243-41f1-b456-c6bd35c8044b"
      },
      "execution_count": null,
      "outputs": [
        {
          "output_type": "stream",
          "name": "stdout",
          "text": [
            "mc =  [0.19599653 0.19437283 0.20625691 0.20267281 0.20010832 0.19011306\n",
            " 0.19795848 0.20219541 0.20608956 0.19169059 0.18828398 0.18457744\n",
            " 0.19473705 0.20328087 0.20851584 0.20746328 0.20437085 0.17530496\n",
            " 0.21068033 0.19097509 0.18234295 0.21217764 0.20505264 0.20124818\n",
            " 0.197459   0.21859035 0.19904612 0.20608546 0.20286551 0.20071799\n",
            " 0.21193872 0.19935523 0.19722916 0.18910257 0.20776005 0.19661308\n",
            " 0.19194862 0.20468442 0.18860386 0.21508872 0.18339228 0.1978318\n",
            " 0.20304235 0.19206156 0.19106826 0.21047336 0.20156253 0.19325437\n",
            " 0.21719991 0.18928894 0.2023657  0.20196336 0.21712668 0.1986395\n",
            " 0.20306323 0.19648301 0.21050441 0.20405498 0.20765545 0.19892758\n",
            " 0.20589052 0.20033602 0.19212635 0.21045347 0.20968802 0.20038493\n",
            " 0.19482898 0.18554712 0.19439405 0.18417983 0.19538622 0.2026011\n",
            " 0.20354097 0.20738007 0.20790576 0.19212958 0.20596787 0.1931926\n",
            " 0.19683752 0.20772888 0.20153181 0.19103678 0.21738516 0.20714084\n",
            " 0.19627039 0.19901867 0.20118619 0.20429543 0.21548866 0.20242619\n",
            " 0.18169244 0.20615026 0.20569956 0.22558601 0.20333592 0.19237291\n",
            " 0.18622241 0.19808064 0.21416723 0.19051048]\n"
          ]
        }
      ]
    },
    {
      "cell_type": "code",
      "source": [
        "mean = np.mean(mc)\n",
        "std = np.std(mc)\n",
        "print(mean)\n",
        "print(std)"
      ],
      "metadata": {
        "colab": {
          "base_uri": "https://localhost:8080/"
        },
        "id": "ykxOpyS2mdG6",
        "outputId": "a62dec9d-175e-4b33-c4b9-8e4062b634a2"
      },
      "execution_count": null,
      "outputs": [
        {
          "output_type": "stream",
          "name": "stdout",
          "text": [
            "0.19970853946481038\n",
            "0.010033577938337717\n"
          ]
        }
      ]
    },
    {
      "cell_type": "code",
      "source": [
        "fig = plt.figure()\n",
        "''' next, we create a axes canvas.  The 4 numbers represent\n",
        "    ax = plt.axes([x0, y0, dx, dy])\n",
        "    - x0: width from left to start canvas (in units of 0 - 1)\n",
        "    - y0: height from bottome to start canvas\n",
        "    - dx: width of canvas - NOTE, x0 + dx <= 1\n",
        "    - dy: height of canvas - NOTE, y0 + dy <= 1\n",
        "'''\n",
        "ax    = plt.axes([0.12, 0.12, 0.87, 0.87])\n",
        "''' Now let us plot the histogram\n",
        "    - Nbins  : the number of bins to use\n",
        "    - alpha  : a parameter taking the value [0, 1] that controls opacity\n",
        "    - ;      : the semi-colon at the end prevents the function from printing\n",
        "               values of the histogram - try removing it\n",
        "    - density: it True, normalize so that int(hist) = 1\n",
        "\n",
        "'''\n",
        "Nbins = 50\n",
        "ax.hist(mc, bins=Nbins, alpha=.5, density=True, label='data');\n",
        "\n",
        "# let us make some axis labels\n",
        "ax.set_ylabel(r'count', fontsize=20);\n",
        "ax.set_xlabel(r'mass of cs, $m_c$', fontsize=20);\n",
        "\n",
        "# plot the mean value\n",
        "ax.axvline(mc.mean(), color='k')\n",
        "# plot the standard deviation\n",
        "ax.axvline(mc.mean()-mc.std(), color='k', linestyle='--')\n",
        "ax.axvline(mc.mean()+mc.std(), color='k', linestyle='--')\n",
        "\n",
        "# median\n",
        "i_sort = mc.argsort()\n",
        "median = mc[i_sort][len(mc)//2]\n",
        "ax.axvline(mc.mean(), color='r', linestyle='--')"
      ],
      "metadata": {
        "colab": {
          "base_uri": "https://localhost:8080/",
          "height": 531
        },
        "id": "ElpIZ2B-mv2J",
        "outputId": "51e10bdc-7fb5-4f90-fcc6-629589bdcc99"
      },
      "execution_count": null,
      "outputs": [
        {
          "output_type": "execute_result",
          "data": {
            "text/plain": [
              "<matplotlib.lines.Line2D at 0x7bcd09954be0>"
            ]
          },
          "metadata": {},
          "execution_count": 19
        },
        {
          "output_type": "display_data",
          "data": {
            "text/plain": [
              "<Figure size 640x480 with 1 Axes>"
            ],
            "image/png": "[encoded data removed]"
          },
          "metadata": {}
        }
      ]
    }
  ]
}