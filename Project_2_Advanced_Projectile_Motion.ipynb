{
  "nbformat": 4,
  "nbformat_minor": 0,
  "metadata": {
    "colab": {
      "provenance": [],
      "authorship_tag": "ABX9TyNZUw9LZYaHz8qEUN79sscZ",
      "include_colab_link": true
    },
    "kernelspec": {
      "name": "python3",
      "display_name": "Python 3"
    },
    "language_info": {
      "name": "python"
    }
  },
  "cells": [
    {
      "cell_type": "markdown",
      "metadata": {
        "id": "view-in-github",
        "colab_type": "text"
      },
      "source": [
        "<a href=\"https://colab.research.google.com/github/samikris/physicsprojects/blob/main/Project_2_Advanced_Projectile_Motion.ipynb\" target=\"_parent\"><img src=\"https://colab.research.google.com/assets/colab-badge.svg\" alt=\"Open In Colab\"/></a>"
      ]
    },
    {
      "cell_type": "code",
      "execution_count": null,
      "metadata": {
        "id": "H3iuPIIydVlZ"
      },
      "outputs": [],
      "source": [
        "import matplotlib.pyplot as plt\n",
        "import numpy as np\n",
        "import math\n",
        "from google.colab import files"
      ]
    },
    {
      "cell_type": "code",
      "source": [
        "from google.colab import drive\n",
        "drive.mount('/content/drive')\n",
        "!mkdir -p \"/content/drive/My Drive/Python4Physics\"\n",
        "filepath=\"drive/My Drive/Python4Physics/\""
      ],
      "metadata": {
        "colab": {
          "base_uri": "https://localhost:8080/"
        },
        "id": "dHy3r2mhmwTo",
        "outputId": "e5bb36b1-0dd3-4e4e-f938-d46a626e5169"
      },
      "execution_count": null,
      "outputs": [
        {
          "output_type": "stream",
          "name": "stdout",
          "text": [
            "Mounted at /content/drive\n"
          ]
        }
      ]
    },
    {
      "cell_type": "code",
      "source": [
        "g = -9.8\n",
        "v0 = 15\n",
        "dy = 0"
      ],
      "metadata": {
        "id": "RbLFsniXm1if"
      },
      "execution_count": null,
      "outputs": []
    },
    {
      "cell_type": "code",
      "source": [
        "x = np.linspace(0, 20, 50)\n",
        "print(x)"
      ],
      "metadata": {
        "colab": {
          "base_uri": "https://localhost:8080/"
        },
        "id": "Vz2BWKFmrDpe",
        "outputId": "fc1a7976-69a2-4251-9647-f1de33af5896"
      },
      "execution_count": null,
      "outputs": [
        {
          "output_type": "stream",
          "name": "stdout",
          "text": [
            "[ 0.          0.40816327  0.81632653  1.2244898   1.63265306  2.04081633\n",
            "  2.44897959  2.85714286  3.26530612  3.67346939  4.08163265  4.48979592\n",
            "  4.89795918  5.30612245  5.71428571  6.12244898  6.53061224  6.93877551\n",
            "  7.34693878  7.75510204  8.16326531  8.57142857  8.97959184  9.3877551\n",
            "  9.79591837 10.20408163 10.6122449  11.02040816 11.42857143 11.83673469\n",
            " 12.24489796 12.65306122 13.06122449 13.46938776 13.87755102 14.28571429\n",
            " 14.69387755 15.10204082 15.51020408 15.91836735 16.32653061 16.73469388\n",
            " 17.14285714 17.55102041 17.95918367 18.36734694 18.7755102  19.18367347\n",
            " 19.59183673 20.        ]\n"
          ]
        }
      ]
    },
    {
      "cell_type": "code",
      "source": [
        "def get_y(x,g,v0,dy):\n",
        "  y = dy + x*math.tan(0.529)+0.5*g*(x/((v0*math.cos(0.529))))**2\n",
        "  return y\n"
      ],
      "metadata": {
        "id": "cwkCjPBBrOlZ"
      },
      "execution_count": null,
      "outputs": []
    },
    {
      "cell_type": "code",
      "source": [
        "y_values = [get_y(x_val, g, v0, dy) for x_val in x]"
      ],
      "metadata": {
        "id": "EpRDZQyHsC_9"
      },
      "execution_count": null,
      "outputs": []
    },
    {
      "cell_type": "code",
      "source": [
        "plt.subplot(311)\n",
        "plt.plot(x, y_values)\n",
        "plt.xlabel(\"X (s)\")\n",
        "plt.ylabel(\"Y (m)\")\n",
        "plt.title('Projectile Motion')"
      ],
      "metadata": {
        "colab": {
          "base_uri": "https://localhost:8080/",
          "height": 228
        },
        "id": "aNOW-N9JsRRa",
        "outputId": "7a10fe9f-ed78-4b50-b48a-f75dffabdc71"
      },
      "execution_count": null,
      "outputs": [
        {
          "output_type": "execute_result",
          "data": {
            "text/plain": [
              "Text(0.5, 1.0, 'Projectile Motion')"
            ]
          },
          "metadata": {},
          "execution_count": 31
        },
        {
          "output_type": "display_data",
          "data": {
            "text/plain": [
              "<Figure size 640x480 with 1 Axes>"
            ],
            "image/png": "[encoded data removed]"
          },
          "metadata": {}
        }
      ]
    },
    {
      "cell_type": "code",
      "source": [
        "print(3**2)"
      ],
      "metadata": {
        "colab": {
          "base_uri": "https://localhost:8080/"
        },
        "id": "D-MI6ZZWsi2_",
        "outputId": "b7a58505-ce9f-4ae9-98a8-6c90f89162c8"
      },
      "execution_count": null,
      "outputs": [
        {
          "output_type": "stream",
          "name": "stdout",
          "text": [
            "9\n"
          ]
        }
      ]
    }
  ]
}